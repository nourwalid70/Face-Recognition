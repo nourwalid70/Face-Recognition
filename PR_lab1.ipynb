{
  "cells": [
    {
      "cell_type": "markdown",
      "metadata": {
        "id": "view-in-github",
        "colab_type": "text"
      },
      "source": [
        "<a href=\"https://colab.research.google.com/github/nourwalid70/Face-Recognition/blob/main/PR_lab1.ipynb\" target=\"_parent\"><img src=\"https://colab.research.google.com/assets/colab-badge.svg\" alt=\"Open In Colab\"/></a>"
      ]
    },
    {
      "cell_type": "code",
      "execution_count": null,
      "metadata": {
        "id": "RLj0Vg8tu0GB"
      },
      "outputs": [],
      "source": [
        "import numpy as np\n",
        "import pandas as pd\n",
        "from sklearn.ensemble import AdaBoostClassifier, RandomForestClassifier\n",
        "from sklearn.metrics import confusion_matrix, accuracy_score, classification_report\n",
        "from sklearn.model_selection import train_test_split, StratifiedKFold, cross_val_score\n",
        "from sklearn.naive_bayes import GaussianNB\n",
        "from sklearn.neighbors import KNeighborsClassifier\n",
        "from sklearn.tree import DecisionTreeClassifier"
      ]
    },
    {
      "cell_type": "code",
      "execution_count": null,
      "metadata": {
        "colab": {
          "base_uri": "https://localhost:8080/"
        },
        "id": "fxqNWQKoqPAX",
        "outputId": "8b5e5da3-e43a-4769-bd4e-fbf44cba6ef0"
      },
      "outputs": [
        {
          "output_type": "stream",
          "name": "stdout",
          "text": [
            "Mounted at /content/drive\n"
          ]
        }
      ],
      "source": [
        "from google.colab import drive\n",
        "drive.mount('/content/drive')"
      ]
    },
    {
      "cell_type": "code",
      "execution_count": null,
      "metadata": {
        "id": "g4JlMNycsyYD"
      },
      "outputs": [],
      "source": [
        "# reading pgm files\n",
        "def read_pgm(pgmf):\n",
        "    assert pgmf.readline() == b'P5\\n'\n",
        "    (width, height) = [int(i) for i in pgmf.readline().split()]\n",
        "    depth = int(pgmf.readline())\n",
        "    assert depth <= 255\n",
        "\n",
        "    raster = []\n",
        "    for y in range(height*width):\n",
        "        raster.append(ord(pgmf.read(1)))\n",
        "\n",
        "    return raster"
      ]
    },
    {
      "cell_type": "code",
      "execution_count": null,
      "metadata": {
        "id": "8h7h4jDVybLJ"
      },
      "outputs": [],
      "source": [
        "# read faces data\n",
        "path = 'drive/MyDrive/Colab Notebooks/PR lab1/data/s'\n",
        "label = []\n",
        "\n",
        "cols = range(1, 10305)\n",
        "df = pd.DataFrame(columns = cols)\n",
        "\n",
        "#loop on files\n",
        "for i in range(1, 41):\n",
        "  p1 = path + str(i) \n",
        "  for j in range(1,11):\n",
        "    p2 = p1 + '/' + str(j) + '.pgm'\n",
        "    label.append(i)\n",
        "    f = open(p2, 'rb')\n",
        "    im = read_pgm(f)\n",
        "    f.close()\n",
        "    df.loc[10*(i-1) + j - 1] = im\n",
        "\n",
        "df['label'] = label \n",
        "df"
      ]
    },
    {
      "cell_type": "code",
      "execution_count": null,
      "metadata": {
        "id": "o27FOxxp445i"
      },
      "outputs": [],
      "source": [
        "# read non-faces data\n",
        "path = 'drive/MyDrive/Colab Notebooks/PR lab1/non-face/'\n",
        "\n",
        "cols = range(1, 10305)\n",
        "non_face_df = pd.DataFrame(columns = cols)\n",
        "\n",
        "#loop on files\n",
        "for i in range(1, 401):\n",
        "  p1 = path + str(i) + '.pgm' \n",
        "  f = open(p1, 'rb')\n",
        "  im = read_pgm(f)\n",
        "  f.close()\n",
        "  non_face_df.loc[i-1] = im\n",
        "\n",
        "non_face_df['label'] = 0 \n",
        "face_df = df.copy()\n",
        "face_df['label'] = 1\n",
        "non_face_df, face_df"
      ]
    },
    {
      "cell_type": "code",
      "execution_count": null,
      "metadata": {
        "id": "VyBDMS2C11Qb"
      },
      "outputs": [],
      "source": [
        "# faces dataset\n",
        "# 50% training , 50% testing\n",
        "train_set = df.loc[df.index % 2 == 0]\n",
        "test_set = df.loc[df.index % 2 != 0]\n",
        "train_set.index = train_set.index//2\n",
        "test_set.index = (test_set.index-1)//2\n",
        "train_set.head(10), test_set.head(10)"
      ]
    },
    {
      "cell_type": "code",
      "execution_count": null,
      "metadata": {
        "id": "GS0tnTPku_CM"
      },
      "outputs": [],
      "source": [
        "# 70% training , 30% testing\n",
        "train_set, test_set = train_test_split(df, test_size=0.3, stratify=df['label'])\n",
        "train_set.sort_values(by=['label'], inplace=True)\n",
        "train_set, test_set"
      ]
    },
    {
      "cell_type": "code",
      "execution_count": null,
      "metadata": {
        "id": "bYPyKcFPJPOx"
      },
      "outputs": [],
      "source": [
        "#faces vs non-faces dataset\n",
        "non_faces_frac = 0.75\n",
        "\n",
        "face_train_set = face_df.sample(frac = 0.5, random_state=1)\n",
        "face_test_set = face_df.drop(face_train_set.index)\n",
        "\n",
        "non_face_train_set = non_face_df.sample(frac = non_faces_frac, random_state=1)\n",
        "non_face_test_set = non_face_df.drop(non_face_train_set.index)\n",
        "\n",
        "train_set = pd.concat([face_train_set, non_face_train_set])\n",
        "test_set = pd.concat([face_test_set, non_face_test_set])\n",
        "\n",
        "train_set"
      ]
    },
    {
      "cell_type": "code",
      "execution_count": null,
      "metadata": {
        "id": "A_Qgbuvyu7b8"
      },
      "outputs": [],
      "source": [
        "def PCA(eigen_values,eigen_vectors,alpha):\n",
        "  indeces = eigen_values.argsort()[::-1]\n",
        "  sorted_eigen_vectors=eigen_vectors\n",
        "  for i in range (len(eigen_vectors)):\n",
        "    sorted_eigen_vectors[:,i]=eigen_vectors[:,indeces[i]]\n",
        "  sum=eigen_values[indeces[0]]\n",
        "  exp_variance = (sum/eigen_values.sum())\n",
        "  \n",
        "  idx=1\n",
        "  while exp_variance<alpha:\n",
        "    sum+=eigen_values[indeces[idx]]\n",
        "    idx+=1\n",
        "    exp_variance = (sum/eigen_values.sum())\n",
        "  p=sorted_eigen_vectors[:,0:idx]\n",
        "  print(idx)\n",
        "  return p\n"
      ]
    },
    {
      "cell_type": "code",
      "execution_count": null,
      "metadata": {
        "id": "oSqG71sdAa2n"
      },
      "outputs": [],
      "source": [
        "def eigen(df):\n",
        "  data_matrix= df.to_numpy()\n",
        "  mean_vector = np.mean(data_matrix,0)\n",
        "  z=data_matrix-mean_vector\n",
        "  #cov_matrix= np.cov(z,rowvar=False,bias=True)\n",
        "  n = len(data_matrix)\n",
        "  cov_matrix = (1/n) * (z.T @ z)\n",
        "  eigen_values,eigen_vectors=np.linalg.eigh(cov_matrix)\n",
        "  return eigen_values,eigen_vectors"
      ]
    },
    {
      "cell_type": "code",
      "execution_count": null,
      "metadata": {
        "id": "EW2TwXpu9Nb8"
      },
      "outputs": [],
      "source": [
        "def LDA(df):\n",
        "  labels = df['label'].unique()  # labels\n",
        "  d = len(df.columns) - 1   # number of features\n",
        "  overallMean = df.loc[:, df.columns!='label'].mean().to_numpy(dtype='float64')\n",
        "  n = []   # stores number of samples of each class\n",
        "  means = np.empty([0, d])   # stores mean vectores of eack class (𝜇𝑘)\n",
        "  Ms1 = np.empty([0, d])  # stores n𝑘(𝜇𝑘−𝜇) for each class\n",
        "  Ms2 = np.empty([0, d])  # stores (𝜇𝑘−𝜇) for each class\n",
        "\n",
        "  for label in labels:\n",
        "    D = df[df['label'] == label].loc[:, df.columns!='label'].to_numpy(dtype='float64')   # data samples of this class\n",
        "    nk = len(D)  # number of samples of this class\n",
        "    mean = D.mean(axis=0)   # (𝜇𝑘)\n",
        "    M_delta = (mean - overallMean)\n",
        "    M1 = nk * M_delta  # n𝑘(𝜇𝑘−𝜇)\n",
        "    M2 =  M_delta # (𝜇𝑘−𝜇)\n",
        "\n",
        "    n.append(nk)\n",
        "    means = np.vstack([means, mean])\n",
        "    Ms1 = np.vstack([Ms1, M1])\n",
        "    Ms2 = np.vstack([Ms2, M2])\n",
        "  \n",
        "  sb = Ms1.T @ Ms2  #between-class scatter matrix\n",
        "  D = df.loc[:, df.columns!='label'].to_numpy(dtype='float64')  # all data data samples\n",
        "  z = D - np.repeat(means, n, 0)  # centralized data\n",
        "  s = z.T @ z   # within-class scatter matrix\n",
        "  \n",
        "  y,w = np.linalg.eigh(np.linalg.inv(s) @ sb)   # eigen values and eigen vectors\n",
        "  #sort eigenvalues and sort eigenvectors accordingly\n",
        "  idx = np.argsort(y)\n",
        "  y = y[idx]\n",
        "  w = w[:,idx]\n",
        "\n",
        "  return w[:,1-len(labels):] # projection matrix"
      ]
    },
    {
      "cell_type": "code",
      "execution_count": null,
      "metadata": {
        "id": "vcn6mPYyjuDR"
      },
      "outputs": [],
      "source": [
        "def project(train_set, test_set, P):\n",
        "  D_train = train_set.loc[:, train_set.columns!='label'].to_numpy(dtype='float64')\n",
        "  after_proj_train = D_train @ P.T  # data after projection\n",
        "  X_train, Y_train = pd.DataFrame(after_proj_train), train_set['label']\n",
        "\n",
        "  D_test = test_set.loc[:, test_set.columns!='label'].to_numpy(dtype='float64')\n",
        "  after_proj_test = D_test @ P.T  # data after projection\n",
        "  X_test, Y_test = pd.DataFrame(after_proj_test), test_set['label']\n",
        "\n",
        "  return X_train, Y_train, X_test, Y_test"
      ]
    },
    {
      "cell_type": "code",
      "execution_count": null,
      "metadata": {
        "id": "ztawqOxrkwtd"
      },
      "outputs": [],
      "source": [
        "def knn_tuning(X_train, Y_train):\n",
        "  best_k, best_score = -1, 0\n",
        "  for k in [1, 3 , 5, 7]:\n",
        "    knn = KNeighborsClassifier(n_neighbors=k)\n",
        "    cv = StratifiedKFold(n_splits=5, shuffle=True)\n",
        "    n_scores = cross_val_score(knn, X_train, Y_train, scoring='accuracy', cv=cv, n_jobs=-1, error_score='raise')\n",
        "    if np.mean(n_scores) > best_score:\n",
        "      best_k = k\n",
        "      best_score = np.mean(n_scores)\n",
        "    print(f'accuracy at k = {k} : {np.mean(n_scores)}')\n",
        "\n",
        "  return best_k, best_score"
      ]
    },
    {
      "cell_type": "code",
      "execution_count": null,
      "metadata": {
        "id": "Wesr3aiQnmf4"
      },
      "outputs": [],
      "source": [
        "def evaluate(knn, X_test, Y_test):\n",
        "  Y_pred = knn.predict(X_test)\n",
        "  acc = accuracy_score(Y_test, Y_pred) * 100\n",
        "  print(\"Accuracy : \\n\", acc)\n",
        "  print(\"Confusion Matrix: \\n\", confusion_matrix(Y_test, Y_pred))\n",
        "  print(\"Report : \\n\", classification_report(Y_test, Y_pred))\n",
        "  return acc"
      ]
    },
    {
      "cell_type": "code",
      "execution_count": null,
      "metadata": {
        "id": "XCsCHElvefyA"
      },
      "outputs": [],
      "source": [
        "# LDA\n",
        "# projection\n",
        "proj_matrix = LDA(train_set)\n",
        "X_train, Y_train, X_test, Y_test = project(train_set, test_set, proj_matrix.T)\n",
        "\n",
        "# cross validation \n",
        "best_k, best_score = knn_tuning(X_train, Y_train)\n",
        "print(f'best validation accuracy = {best_score} at k = {best_k}')\n",
        "\n",
        "# train the KNN model\n",
        "knn = KNeighborsClassifier(n_neighbors=best_k)\n",
        "knn.fit(X_train, Y_train)\n",
        "\n",
        "#test\n",
        "evaluate(knn, X_test, Y_test)\n"
      ]
    },
    {
      "cell_type": "code",
      "execution_count": null,
      "metadata": {
        "colab": {
          "base_uri": "https://localhost:8080/"
        },
        "id": "aIimXBbH0MOJ",
        "outputId": "44dc5584-8c8e-445f-f02c-b6985e1a8206"
      },
      "outputs": [
        {
          "output_type": "execute_result",
          "data": {
            "text/plain": [
              "1        float64\n",
              "2        float64\n",
              "3        float64\n",
              "4        float64\n",
              "5        float64\n",
              "          ...   \n",
              "10301    float64\n",
              "10302    float64\n",
              "10303    float64\n",
              "10304    float64\n",
              "label    float64\n",
              "Length: 10305, dtype: object"
            ]
          },
          "metadata": {},
          "execution_count": 56
        }
      ],
      "source": [
        "# PCA\n",
        "train_set=train_set.astype(float)\n",
        "test_set=test_set.astype(float)\n",
        "test_set.dtypes"
      ]
    },
    {
      "cell_type": "code",
      "execution_count": null,
      "metadata": {
        "id": "t_vChgtcgCDc"
      },
      "outputs": [],
      "source": [
        "# PCA\n",
        "Y_train=train_set[:]['label']\n",
        "data_train_set = train_set.drop(\"label\", axis=1)\n",
        "\n",
        "Y_test=test_set[:]['label']\n",
        "data_test_set = test_set.drop(\"label\", axis=1)\n"
      ]
    },
    {
      "cell_type": "code",
      "execution_count": null,
      "metadata": {
        "id": "z1fU6_lwBC_T"
      },
      "outputs": [],
      "source": [
        "eigen_values,eigen_vectors=eigen(data_train_set)"
      ]
    },
    {
      "cell_type": "code",
      "execution_count": null,
      "metadata": {
        "id": "FLaM0pb7JIHz"
      },
      "outputs": [],
      "source": [
        "eigen_values,eigen_vectors.shape"
      ]
    },
    {
      "cell_type": "code",
      "execution_count": null,
      "metadata": {
        "id": "Ax_qW6Bb6AO3"
      },
      "outputs": [],
      "source": [
        "# projection\n",
        "proj_matrix = PCA(eigen_values,eigen_vectors,0.8)\n",
        "\n",
        "proj_matrix.shape"
      ]
    },
    {
      "cell_type": "code",
      "execution_count": null,
      "metadata": {
        "id": "X8m29W8l_Mu2"
      },
      "outputs": [],
      "source": [
        "X_train=np.dot(data_train_set,proj_matrix)\n",
        "X_test=np.dot(data_test_set,proj_matrix)\n",
        "X_train.shape, X_test.shape"
      ]
    },
    {
      "cell_type": "code",
      "execution_count": null,
      "metadata": {
        "id": "1UT9TjoN11aI"
      },
      "outputs": [],
      "source": [
        "# cross validation \n",
        "best_k, best_score = knn_tuning(X_train, Y_train)\n",
        "print(f'best validation accuracy = {best_score} at k = {best_k}')\n",
        "\n",
        "# train the KNN model\n",
        "knn = KNeighborsClassifier(n_neighbors=best_k)\n",
        "knn.fit(X_train, Y_train)\n",
        "\n",
        "#test\n",
        "evaluate(knn, X_test, Y_test)"
      ]
    },
    {
      "cell_type": "code",
      "execution_count": null,
      "metadata": {
        "id": "0eeVvk6YmO6h"
      },
      "outputs": [],
      "source": [
        "import matplotlib.pyplot as plt\n",
        "list = []\n",
        "for i in np.arange(0.40,0.95,0.05):\n",
        "  proj_matrix = PCA(eigen_values,eigen_vectors,i)\n",
        "  X_train=np.dot(data_train_set,proj_matrix)\n",
        "  X_test=np.dot(data_test_set,proj_matrix)\n",
        "  # cross validation \n",
        "  best_k, best_score = knn_tuning(X_train, Y_train)\n",
        "  print(f'best validation accuracy = {best_score} at k = {best_k}')\n",
        "\n",
        "  # train the KNN model\n",
        "  knn = KNeighborsClassifier(n_neighbors=best_k)\n",
        "  knn.fit(X_train, Y_train)\n",
        "\n",
        "  #test\n",
        "  list.append(evaluate(knn, X_test, Y_test))\n",
        "plt.plot(np.arange(0.40,0.95,0.05), list, 'ro')\n",
        "plt.ylabel('Testing Accuracy')\n",
        "plt.xlabel('Alpha')\n",
        "plt.show()"
      ]
    }
  ],
  "metadata": {
    "colab": {
      "provenance": [],
      "include_colab_link": true
    },
    "kernelspec": {
      "display_name": "Python 3",
      "name": "python3"
    },
    "language_info": {
      "name": "python"
    }
  },
  "nbformat": 4,
  "nbformat_minor": 0
}